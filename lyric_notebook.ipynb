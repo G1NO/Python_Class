{
 "cells": [
  {
   "cell_type": "code",
   "execution_count": 2,
   "metadata": {},
   "outputs": [],
   "source": [
    "#the lyrics of the song (perfect by Ed Sheeran) has been cleaned out\n",
    "\n",
    "perfect_lyrics = \"I found a love for me darling just dive right in and follow my lead\\\n",
    " well I found a girl beautiful and sweet I never knew you were the someone waiting for me\\\n",
    " because we were just kids when we fell in love not knowing what it was I will not give you up this time\\\n",
    " but darling, just kiss me slow, your heart is all I own and in your eyes you are holding mine\\\n",
    " baby, I am dancing in the dark with you between my arms barefoot on the grass, listening to our favorite song\\\n",
    " when you said you looked a mess, I whispered underneath my breath but you heard it, darling, you look perfect tonight\\\n",
    " well I found a woman, stronger than anyone I know she shares my dreams, I hope that someday I will share her home\\\n",
    " I found a love, to carry more than just my secrets to carry love, to carry children of our own\\\n",
    " we are still kids, but we are so in love fighting against all odds I know we will be alright this time\\\n",
    " darling, just hold my hand be my girl, I will be your man I see my future in your eyes\\\n",
    " baby, I am dancing in the dark, with you between my arms barefoot on the grass, listening to our favorite song\\\n",
    " when I saw you in that dress, looking so beautiful I don't deserve this, darling, you look perfect tonight\\\n",
    " baby, I am dancing in the dark, with you between my arms barefoot on the grass, listening to our favorite song\\\n",
    " I have faith in what I see now I know I have met an angel in person and she looks perfect I don't deserve this\\\n",
    " you look perfect tonight\""
   ]
  },
  {
   "cell_type": "code",
   "execution_count": 3,
   "metadata": {},
   "outputs": [
    {
     "name": "stdout",
     "output_type": "stream",
     "text": [
      "['I', 'found', 'a', 'love', 'for', 'me', 'darling', 'just', 'dive', 'right', 'in', 'and', 'follow', 'my', 'lead', 'well', 'I', 'found', 'a', 'girl', 'beautiful', 'and', 'sweet', 'I', 'never', 'knew', 'you', 'were', 'the', 'someone', 'waiting', 'for', 'me', 'because', 'we', 'were', 'just', 'kids', 'when', 'we', 'fell', 'in', 'love', 'not', 'knowing', 'what', 'it', 'was', 'I', 'will', 'not', 'give', 'you', 'up', 'this', 'time', 'but', 'darling,', 'just', 'kiss', 'me', 'slow,', 'your', 'heart', 'is', 'all', 'I', 'own', 'and', 'in', 'your', 'eyes', 'you', 'are', 'holding', 'mine', 'baby,', 'I', 'am', 'dancing', 'in', 'the', 'dark', 'with', 'you', 'between', 'my', 'arms', 'barefoot', 'on', 'the', 'grass,', 'listening', 'to', 'our', 'favorite', 'song', 'when', 'you', 'said', 'you', 'looked', 'a', 'mess,', 'I', 'whispered', 'underneath', 'my', 'breath', 'but', 'you', 'heard', 'it,', 'darling,', 'you', 'look', 'perfect', 'tonight', 'well', 'I', 'found', 'a', 'woman,', 'stronger', 'than', 'anyone', 'I', 'know', 'she', 'shares', 'my', 'dreams,', 'I', 'hope', 'that', 'someday', 'I', 'will', 'share', 'her', 'home', 'I', 'found', 'a', 'love,', 'to', 'carry', 'more', 'than', 'just', 'my', 'secrets', 'to', 'carry', 'love,', 'to', 'carry', 'children', 'of', 'our', 'own', 'we', 'are', 'still', 'kids,', 'but', 'we', 'are', 'so', 'in', 'love', 'fighting', 'against', 'all', 'odds', 'I', 'know', 'we', 'will', 'be', 'alright', 'this', 'time', 'darling,', 'just', 'hold', 'my', 'hand', 'be', 'my', 'girl,', 'I', 'will', 'be', 'your', 'man', 'I', 'see', 'my', 'future', 'in', 'your', 'eyes', 'baby,', 'I', 'am', 'dancing', 'in', 'the', 'dark,', 'with', 'you', 'between', 'my', 'arms', 'barefoot', 'on', 'the', 'grass,', 'listening', 'to', 'our', 'favorite', 'song', 'when', 'I', 'saw', 'you', 'in', 'that', 'dress,', 'looking', 'so', 'beautiful', 'I', \"don't\", 'deserve', 'this,', 'darling,', 'you', 'look', 'perfect', 'tonight', 'baby,', 'I', 'am', 'dancing', 'in', 'the', 'dark,', 'with', 'you', 'between', 'my', 'arms', 'barefoot', 'on', 'the', 'grass,', 'listening', 'to', 'our', 'favorite', 'song', 'I', 'have', 'faith', 'in', 'what', 'I', 'see', 'now', 'I', 'know', 'I', 'have', 'met', 'an', 'angel', 'in', 'person', 'and', 'she', 'looks', 'perfect', 'I', \"don't\", 'deserve', 'this', 'you', 'look', 'perfect', 'tonight']\n"
     ]
    }
   ],
   "source": [
    "#To seperate each word  to create a list\n",
    "split_lyrics = perfect_lyrics.split(' ')\n",
    "print(split_lyrics)"
   ]
  },
  {
   "cell_type": "markdown",
   "metadata": {},
   "source": [
    "From the above output, you will notice that each word has been separated into independent strings. And the whole lyrics make up the list called split_lyrics(which is also a variable) We will also need to separate the unique words of the rest of the words and the count. To do this, we would need to use python functions."
   ]
  },
  {
   "cell_type": "markdown",
   "metadata": {},
   "source": [
    "---\n",
    "We will be using a few functions in the case study but we will start with the set( ) function. To separate the unique words from the whole lyrics, we need a set( ) and a print ( ) function i.e\n"
   ]
  },
  {
   "cell_type": "code",
   "execution_count": 7,
   "metadata": {},
   "outputs": [
    {
     "name": "stdout",
     "output_type": "stream",
     "text": [
      "{'arms', 'looked', 'own', 'will', 'are', 'share', 'perfect', 'baby,', 'now', 'me', 'it,', 'an', 'children', 'with', 'and', 'someone', 'home', 'still', 'stronger', 'not', 'slow,', 'knew', 'that', 'right', \"don't\", 'this,', 'woman,', 'give', 'saw', 'is', 'odds', 'it', 'alright', 'person', 'mine', 'met', 'deserve', 'were', 'dark', 'barefoot', 'against', 'have', 'hand', 'holding', 'her', 'so', 'sweet', 'be', 'she', 'because', 'of', 'well', 'beautiful', 'our', 'secrets', 'this', 'faith', 'said', 'for', 'you', 'kiss', 'dancing', 'dive', 'dark,', 'carry', 'but', 'never', 'hope', 'the', 'we', 'see', 'looking', 'future', 'fell', 'in', 'grass,', 'I', 'heard', 'your', 'know', 'am', 'a', 'on', 'found', 'up', 'love', 'lead', 'dreams,', 'anyone', 'more', 'what', 'look', 'eyes', 'favorite', 'breath', 'my', 'fighting', 'all', 'dress,', 'follow', 'girl', 'whispered', 'angel', 'underneath', 'tonight', 'to', 'man', 'darling,', 'heart', 'song', 'love,', 'hold', 'shares', 'than', 'waiting', 'someday', 'just', 'was', 'kids,', 'between', 'time', 'mess,', 'listening', 'girl,', 'kids', 'darling', 'looks', 'when', 'knowing'}\n"
     ]
    }
   ],
   "source": [
    "# To seperate the unique words\n",
    "unique_words = set(split_lyrics)\n",
    "print(unique_words)"
   ]
  },
  {
   "cell_type": "markdown",
   "metadata": {},
   "source": [
    "To count the number of words in the whole lyrics, we would need a len ( ) function"
   ]
  },
  {
   "cell_type": "code",
   "execution_count": 9,
   "metadata": {},
   "outputs": [
    {
     "data": {
      "text/plain": [
       "293"
      ]
     },
     "execution_count": 9,
     "metadata": {},
     "output_type": "execute_result"
    }
   ],
   "source": [
    "len(split_lyrics) #number of words in the whole lyrics\n"
   ]
  },
  {
   "cell_type": "markdown",
   "metadata": {},
   "source": [
    "Doing the same for the unique words extracted\n"
   ]
  },
  {
   "cell_type": "code",
   "execution_count": 10,
   "metadata": {},
   "outputs": [
    {
     "data": {
      "text/plain": [
       "129"
      ]
     },
     "execution_count": 10,
     "metadata": {},
     "output_type": "execute_result"
    }
   ],
   "source": [
    "len(unique_words) # number of unique words\n"
   ]
  },
  {
   "cell_type": "markdown",
   "metadata": {},
   "source": [
    "Our above analysis has helped answer our first question: How many unique words were used as compared to the whole lyrics of the song?Simply put, 129 unique words were used in over 290 words in total.\n",
    "Our next goal is to figure out the second part of the question What are the most repetitive words used and how many times were they used?\n",
    "In order to answer this question, we will need to learn more data structures."
   ]
  },
  {
   "cell_type": "markdown",
   "metadata": {},
   "source": [
    "---\n",
    "**Dictionaries** in Python are unordered collections of items. While data structures have only values as an element, A dictionary has a key:value pair. Each key-value pair maps the key to its associated value. Dictionaries are optimized to retrieve values when the key is known. You can define a dictionary by enclosing a comma-separated list of key-value pairs in curly braces ({}). A colon (:) separates each key from its associated value. An example is a simple German-English dictionary:"
   ]
  },
  {
   "cell_type": "code",
   "execution_count": 15,
   "metadata": {},
   "outputs": [
    {
     "name": "stdout",
     "output_type": "stream",
     "text": [
      "rot\n"
     ]
    }
   ],
   "source": [
    "colours = {\"red\" : \"rot\", \"green\" : \"grün\", \"blue\" : \"blau\", \"yellow\":\"gelb\"}\n",
    "print(colours[\"red\"])\n",
    "# output will be the value of 'red'( the key) which is 'rot'\n",
    "empty_dict = {} \n",
    "# a dictionary can also be empty waiting to be filled up with information "
   ]
  },
  {
   "cell_type": "markdown",
   "metadata": {},
   "source": [
    "**Loops** are great when trying to run the same block of code over and over again. In python, there are two types of loops: for and while. For this analysis, we will focus more on the for loop. The for loop is used to iterate over elements of a sequence. It is often used when you have a piece of code which you want to repeat ‘n’ number of times.\n",
    "It works like this: “ for all elements in a list or dictionary, do this “\n",
    "\n",
    "For example:"
   ]
  },
  {
   "cell_type": "code",
   "execution_count": 16,
   "metadata": {},
   "outputs": [
    {
     "name": "stdout",
     "output_type": "stream",
     "text": [
      "4\n",
      "6\n",
      "8\n"
     ]
    }
   ],
   "source": [
    "list_number = [2,3,4]\n",
    "#input\n",
    "for item in list_number:\n",
    "    multiple = 2 * item\n",
    "    print(multiple)"
   ]
  },
  {
   "cell_type": "markdown",
   "metadata": {},
   "source": [
    "Going back to our dataset\n",
    "\n",
    "To know the most repeated word(s), we need to know the number of times each word appeared in the lyrics. To do that, we will need to use both a dictionary(to store each word with their corresponding count) and a for loop (to iterate the counting process as each word appears)\n",
    "\n",
    "First, we need to store the unique words in a dictionary"
   ]
  },
  {
   "cell_type": "code",
   "execution_count": 17,
   "metadata": {},
   "outputs": [
    {
     "name": "stdout",
     "output_type": "stream",
     "text": [
      "{'arms': 0, 'looked': 0, 'own': 0, 'will': 0, 'are': 0, 'share': 0, 'perfect': 0, 'baby,': 0, 'now': 0, 'me': 0, 'it,': 0, 'an': 0, 'children': 0, 'with': 0, 'and': 0, 'someone': 0, 'home': 0, 'still': 0, 'stronger': 0, 'not': 0, 'slow,': 0, 'knew': 0, 'that': 0, 'right': 0, \"don't\": 0, 'this,': 0, 'woman,': 0, 'give': 0, 'saw': 0, 'is': 0, 'odds': 0, 'it': 0, 'alright': 0, 'person': 0, 'mine': 0, 'met': 0, 'deserve': 0, 'were': 0, 'dark': 0, 'barefoot': 0, 'against': 0, 'have': 0, 'hand': 0, 'holding': 0, 'her': 0, 'so': 0, 'sweet': 0, 'be': 0, 'she': 0, 'because': 0, 'of': 0, 'well': 0, 'beautiful': 0, 'our': 0, 'secrets': 0, 'this': 0, 'faith': 0, 'said': 0, 'for': 0, 'you': 0, 'kiss': 0, 'dancing': 0, 'dive': 0, 'dark,': 0, 'carry': 0, 'but': 0, 'never': 0, 'hope': 0, 'the': 0, 'we': 0, 'see': 0, 'looking': 0, 'future': 0, 'fell': 0, 'in': 0, 'grass,': 0, 'I': 0, 'heard': 0, 'your': 0, 'know': 0, 'am': 0, 'a': 0, 'on': 0, 'found': 0, 'up': 0, 'love': 0, 'lead': 0, 'dreams,': 0, 'anyone': 0, 'more': 0, 'what': 0, 'look': 0, 'eyes': 0, 'favorite': 0, 'breath': 0, 'my': 0, 'fighting': 0, 'all': 0, 'dress,': 0, 'follow': 0, 'girl': 0, 'whispered': 0, 'angel': 0, 'underneath': 0, 'tonight': 0, 'to': 0, 'man': 0, 'darling,': 0, 'heart': 0, 'song': 0, 'love,': 0, 'hold': 0, 'shares': 0, 'than': 0, 'waiting': 0, 'someday': 0, 'just': 0, 'was': 0, 'kids,': 0, 'between': 0, 'time': 0, 'mess,': 0, 'listening': 0, 'girl,': 0, 'kids': 0, 'darling': 0, 'looks': 0, 'when': 0, 'knowing': 0}\n"
     ]
    }
   ],
   "source": [
    "# To count the number of times the unique words appear , first in the unique_word list\n",
    "word_dict = {} #An empty dictionary\n",
    "for word in unique_words:\n",
    "    word_dict[word] = 0\n",
    "print(word_dict)\n"
   ]
  },
  {
   "cell_type": "markdown",
   "metadata": {},
   "source": [
    "Then we need to use the for loop again to count the number of times each unique word appears in the whole lyrics."
   ]
  },
  {
   "cell_type": "code",
   "execution_count": 18,
   "metadata": {},
   "outputs": [
    {
     "name": "stdout",
     "output_type": "stream",
     "text": [
      "{'arms': 3, 'looked': 1, 'own': 2, 'will': 4, 'are': 3, 'share': 1, 'perfect': 4, 'baby,': 3, 'now': 1, 'me': 3, 'it,': 1, 'an': 1, 'children': 1, 'with': 3, 'and': 4, 'someone': 1, 'home': 1, 'still': 1, 'stronger': 1, 'not': 2, 'slow,': 1, 'knew': 1, 'that': 2, 'right': 1, \"don't\": 2, 'this,': 1, 'woman,': 1, 'give': 1, 'saw': 1, 'is': 1, 'odds': 1, 'it': 1, 'alright': 1, 'person': 1, 'mine': 1, 'met': 1, 'deserve': 2, 'were': 2, 'dark': 1, 'barefoot': 3, 'against': 1, 'have': 2, 'hand': 1, 'holding': 1, 'her': 1, 'so': 2, 'sweet': 1, 'be': 3, 'she': 2, 'because': 1, 'of': 1, 'well': 2, 'beautiful': 2, 'our': 4, 'secrets': 1, 'this': 3, 'faith': 1, 'said': 1, 'for': 2, 'you': 13, 'kiss': 1, 'dancing': 3, 'dive': 1, 'dark,': 2, 'carry': 3, 'but': 3, 'never': 1, 'hope': 1, 'the': 7, 'we': 5, 'see': 2, 'looking': 1, 'future': 1, 'fell': 1, 'in': 11, 'grass,': 3, 'I': 24, 'heard': 1, 'your': 4, 'know': 3, 'am': 3, 'a': 5, 'on': 3, 'found': 4, 'up': 1, 'love': 3, 'lead': 1, 'dreams,': 1, 'anyone': 1, 'more': 1, 'what': 2, 'look': 3, 'eyes': 2, 'favorite': 3, 'breath': 1, 'my': 10, 'fighting': 1, 'all': 2, 'dress,': 1, 'follow': 1, 'girl': 1, 'whispered': 1, 'angel': 1, 'underneath': 1, 'tonight': 3, 'to': 6, 'man': 1, 'darling,': 4, 'heart': 1, 'song': 3, 'love,': 2, 'hold': 1, 'shares': 1, 'than': 2, 'waiting': 1, 'someday': 1, 'just': 5, 'was': 1, 'kids,': 1, 'between': 3, 'time': 2, 'mess,': 1, 'listening': 3, 'girl,': 1, 'kids': 1, 'darling': 1, 'looks': 1, 'when': 3, 'knowing': 1}\n"
     ]
    }
   ],
   "source": [
    "# then in the whole song\n",
    "for word in split_lyrics:\n",
    "    word_dict[word] = word_dict[word] + 1\n",
    "print(word_dict)"
   ]
  },
  {
   "cell_type": "markdown",
   "metadata": {},
   "source": [
    "Now we have found out the number of times each word appears, let's sort them out to view them from highest to lowest using the sorted ( ) function"
   ]
  },
  {
   "cell_type": "code",
   "execution_count": 19,
   "metadata": {},
   "outputs": [
    {
     "name": "stdout",
     "output_type": "stream",
     "text": [
      "[('I', 24), ('you', 13), ('in', 11), ('my', 10), ('the', 7), ('to', 6), ('we', 5), ('a', 5), ('just', 5), ('will', 4), ('perfect', 4), ('and', 4), ('our', 4), ('your', 4), ('found', 4), ('darling,', 4), ('arms', 3), ('are', 3), ('baby,', 3), ('me', 3), ('with', 3), ('barefoot', 3), ('be', 3), ('this', 3), ('dancing', 3), ('carry', 3), ('but', 3), ('grass,', 3), ('know', 3), ('am', 3), ('on', 3), ('love', 3), ('look', 3), ('favorite', 3), ('tonight', 3), ('song', 3), ('between', 3), ('listening', 3), ('when', 3), ('own', 2), ('not', 2), ('that', 2), (\"don't\", 2), ('deserve', 2), ('were', 2), ('have', 2), ('so', 2), ('she', 2), ('well', 2), ('beautiful', 2), ('for', 2), ('dark,', 2), ('see', 2), ('what', 2), ('eyes', 2), ('all', 2), ('love,', 2), ('than', 2), ('time', 2), ('looked', 1), ('share', 1), ('now', 1), ('it,', 1), ('an', 1), ('children', 1), ('someone', 1), ('home', 1), ('still', 1), ('stronger', 1), ('slow,', 1), ('knew', 1), ('right', 1), ('this,', 1), ('woman,', 1), ('give', 1), ('saw', 1), ('is', 1), ('odds', 1), ('it', 1), ('alright', 1), ('person', 1), ('mine', 1), ('met', 1), ('dark', 1), ('against', 1), ('hand', 1), ('holding', 1), ('her', 1), ('sweet', 1), ('because', 1), ('of', 1), ('secrets', 1), ('faith', 1), ('said', 1), ('kiss', 1), ('dive', 1), ('never', 1), ('hope', 1), ('looking', 1), ('future', 1), ('fell', 1), ('heard', 1), ('up', 1), ('lead', 1), ('dreams,', 1), ('anyone', 1), ('more', 1), ('breath', 1), ('fighting', 1), ('dress,', 1), ('follow', 1), ('girl', 1), ('whispered', 1), ('angel', 1), ('underneath', 1), ('man', 1), ('heart', 1), ('hold', 1), ('shares', 1), ('waiting', 1), ('someday', 1), ('was', 1), ('kids,', 1), ('mess,', 1), ('girl,', 1), ('kids', 1), ('darling', 1), ('looks', 1), ('knowing', 1)]\n"
     ]
    }
   ],
   "source": [
    "# To sort the value of the words in descending order\n",
    "sort_dict = sorted(word_dict.items(),key = lambda t: t[1], reverse =True)\n",
    "print(sort_dict)"
   ]
  },
  {
   "cell_type": "markdown",
   "metadata": {},
   "source": [
    "There seem to be too many words that only occurred once. Because our aim is to find the most popular word or words, we will narrow our list to the 10 words by slicing it. You can learn more about slicing here"
   ]
  },
  {
   "cell_type": "code",
   "execution_count": 20,
   "metadata": {},
   "outputs": [
    {
     "data": {
      "text/plain": [
       "[('I', 24),\n",
       " ('you', 13),\n",
       " ('in', 11),\n",
       " ('my', 10),\n",
       " ('the', 7),\n",
       " ('to', 6),\n",
       " ('we', 5),\n",
       " ('a', 5),\n",
       " ('just', 5),\n",
       " ('will', 4)]"
      ]
     },
     "execution_count": 20,
     "metadata": {},
     "output_type": "execute_result"
    }
   ],
   "source": [
    "# To slice the list to extract the top 10 repeated words\n",
    "toplist = sort_dict[0:10]\n",
    "toplist"
   ]
  },
  {
   "cell_type": "markdown",
   "metadata": {},
   "source": [
    "Then changing back to a dictionary\n"
   ]
  },
  {
   "cell_type": "code",
   "execution_count": 21,
   "metadata": {},
   "outputs": [
    {
     "data": {
      "text/plain": [
       "{'I': 24,\n",
       " 'you': 13,\n",
       " 'in': 11,\n",
       " 'my': 10,\n",
       " 'the': 7,\n",
       " 'to': 6,\n",
       " 'we': 5,\n",
       " 'a': 5,\n",
       " 'just': 5,\n",
       " 'will': 4}"
      ]
     },
     "execution_count": 21,
     "metadata": {},
     "output_type": "execute_result"
    }
   ],
   "source": [
    "#Converting back to a dictionary\n",
    "top10_dict = dict(toplist)\n",
    "top10_dict"
   ]
  },
  {
   "cell_type": "markdown",
   "metadata": {},
   "source": [
    "An additional question will be: What are the 10 most popular words in the song called perfect by Ed Sheeran? We can easily extract this information by using the key ( )method under the dictionary data structure and then creating a list of those words."
   ]
  },
  {
   "cell_type": "code",
   "execution_count": 22,
   "metadata": {},
   "outputs": [
    {
     "data": {
      "text/plain": [
       "['I', 'you', 'in', 'my', 'the', 'to', 'we', 'a', 'just', 'will']"
      ]
     },
     "execution_count": 22,
     "metadata": {},
     "output_type": "execute_result"
    }
   ],
   "source": [
    "# To isloate just the words and puting them into a list\n",
    "uniqueword10 = list(top10_dict.keys())\n",
    "uniqueword10"
   ]
  },
  {
   "cell_type": "markdown",
   "metadata": {},
   "source": [
    "From the above output code, we can confidently say that the most popular word used in the song called Perfect by Ed Sheeran is ‘I’ which appeared 24 times\n",
    "\n",
    "Let’s improve our analysis a little further"
   ]
  },
  {
   "cell_type": "markdown",
   "metadata": {},
   "source": [
    "---\n",
    "**Visualizing data with python**. \n",
    "\n",
    "Various techniques have been developed for presenting data visually but in this analysis, we will focus data visualization strictly on a library in Python, namely Matplotlib.\n",
    "Lets quickly visualize the analysis on the top 10 most popular words in our case study"
   ]
  },
  {
   "cell_type": "code",
   "execution_count": 25,
   "metadata": {},
   "outputs": [
    {
     "data": {
      "image/png": "[encoded data removed]",
      "text/plain": [
       "<Figure size 432x288 with 1 Axes>"
      ]
     },
     "metadata": {
      "needs_background": "light"
     },
     "output_type": "display_data"
    }
   ],
   "source": [
    "#To visualize the words and values\n",
    "import matplotlib.pyplot as plt\n",
    "import numpy as np\n",
    "%matplotlib inline\n",
    "\n",
    "so_axis = np.arange(len(uniqueword10))\n",
    "plt.xticks(so_axis, uniqueword10)\n",
    "plt.bar(so_axis, top10_dict.values())\n",
    "plt.show()"
   ]
  },
  {
   "cell_type": "code",
   "execution_count": null,
   "metadata": {},
   "outputs": [],
   "source": []
  }
 ],
 "metadata": {
  "kernelspec": {
   "display_name": "Python 3",
   "language": "python",
   "name": "python3"
  },
  "language_info": {
   "codemirror_mode": {
    "name": "ipython",
    "version": 3
   },
   "file_extension": ".py",
   "mimetype": "text/x-python",
   "name": "python",
   "nbconvert_exporter": "python",
   "pygments_lexer": "ipython3",
   "version": "3.6.10"
  }
 },
 "nbformat": 4,
 "nbformat_minor": 4
}
